{
 "cells": [
  {
   "cell_type": "code",
   "execution_count": 25,
   "metadata": {},
   "outputs": [],
   "source": [
    "import os\n",
    "from PIL import Image\n",
    "from tqdm import tqdm\n",
    "from skimage import color\n",
    "from skimage import io\n",
    "from skimage import img_as_ubyte\n",
    "from skimage.transform import resize\n",
    "import numpy as np\n",
    "import h5py"
   ]
  },
  {
   "cell_type": "code",
   "execution_count": 26,
   "metadata": {},
   "outputs": [],
   "source": [
    "image_folder = 'cropped/'\n",
    "SIZE = 64\n",
    "taget_size = (SIZE,SIZE)\n",
    "save_folder = 'images/fish/'"
   ]
  },
  {
   "cell_type": "code",
   "execution_count": 27,
   "metadata": {},
   "outputs": [
    {
     "name": "stderr",
     "output_type": "stream",
     "text": [
      "100%|█████████████████████████████████████████████████████████████████████████████████████████████████████████████| 4415/4415 [00:26<00:00, 168.70it/s]\n"
     ]
    }
   ],
   "source": [
    "take = 10\n",
    "files = os.listdir(image_folder)\n",
    "for file in tqdm(files):\n",
    "    image = Image.open(image_folder+file)\n",
    "    image = image.resize(taget_size, Image.BICUBIC)\n",
    "    image.save(save_folder+file)"
   ]
  },
  {
   "cell_type": "code",
   "execution_count": 28,
   "metadata": {},
   "outputs": [
    {
     "name": "stderr",
     "output_type": "stream",
     "text": [
      "100%|█████████████████████████████████████████████████████████████████████████████████████████████████████████████| 4415/4415 [00:11<00:00, 398.75it/s]\n"
     ]
    }
   ],
   "source": [
    "files = list(os.listdir(save_folder))\n",
    "count = len(files) \n",
    "i = 0 \n",
    "with h5py.File('data.hdf5','w') as f: \n",
    "    dset = f.create_dataset('ints', (count,SIZE*SIZE*3), dtype='uint8')\n",
    "    i = 0\n",
    "    for file in tqdm(files):\n",
    "        image = Image.open(save_folder+file).convert('RGB')\n",
    "        image = np.array(image)\n",
    "        image = image.reshape(SIZE*SIZE*3).astype(int) \n",
    "        dset[i] = image\n",
    "        i+=1\n",
    "        \n",
    "    "
   ]
  },
  {
   "cell_type": "code",
   "execution_count": 29,
   "metadata": {},
   "outputs": [],
   "source": [
    "with h5py.File('data.hdf5','r') as f: \n",
    "    a = f['ints'][:10]"
   ]
  },
  {
   "cell_type": "code",
   "execution_count": 31,
   "metadata": {},
   "outputs": [
    {
     "data": {
      "text/plain": [
       "(12288,)"
      ]
     },
     "execution_count": 31,
     "metadata": {},
     "output_type": "execute_result"
    }
   ],
   "source": [
    "a[0].shape"
   ]
  },
  {
   "cell_type": "code",
   "execution_count": 32,
   "metadata": {},
   "outputs": [
    {
     "data": {
      "text/plain": [
       "12288"
      ]
     },
     "execution_count": 32,
     "metadata": {},
     "output_type": "execute_result"
    }
   ],
   "source": [
    "64*64*3"
   ]
  },
  {
   "cell_type": "code",
   "execution_count": null,
   "metadata": {},
   "outputs": [],
   "source": []
  }
 ],
 "metadata": {
  "kernelspec": {
   "display_name": "Python 3",
   "language": "python",
   "name": "python3"
  },
  "language_info": {
   "codemirror_mode": {
    "name": "ipython",
    "version": 3
   },
   "file_extension": ".py",
   "mimetype": "text/x-python",
   "name": "python",
   "nbconvert_exporter": "python",
   "pygments_lexer": "ipython3",
   "version": "3.6.6"
  }
 },
 "nbformat": 4,
 "nbformat_minor": 2
}
