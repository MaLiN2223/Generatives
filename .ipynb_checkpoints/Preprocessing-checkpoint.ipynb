{
 "cells": [
  {
   "cell_type": "code",
   "execution_count": 1,
   "metadata": {},
   "outputs": [],
   "source": [
    "import os\n",
    "from PIL import Image\n",
    "from tqdm import tqdm\n",
    "from skimage import color\n",
    "from skimage import io\n",
    "from skimage import img_as_ubyte\n",
    "from skimage.transform import resize\n",
    "import numpy as np\n",
    "import h5py"
   ]
  },
  {
   "cell_type": "code",
   "execution_count": 2,
   "metadata": {},
   "outputs": [],
   "source": [
    "image_folder = 'data/data/'\n",
    "SIZE = 32\n",
    "taget_size = (SIZE,SIZE)\n",
    "save_folder = 'images/bedrooms/'"
   ]
  },
  {
   "cell_type": "code",
   "execution_count": 27,
   "metadata": {},
   "outputs": [
    {
     "name": "stdout",
     "output_type": "stream",
     "text": [
      "data/data/\n"
     ]
    },
    {
     "name": "stderr",
     "output_type": "stream",
     "text": [
      "100%|████████████████████████████████████████████████████████████████████████████████████████████████████████████████████████████████████████████████████████████████| 5001/5001 [00:27<00:00, 184.45it/s]\n"
     ]
    },
    {
     "name": "stdout",
     "output_type": "stream",
     "text": [
      "264.7816436712657\n",
      "356.43011397720454\n"
     ]
    }
   ],
   "source": [
    "print(image_folder)\n",
    "files = os.listdir(image_folder)\n",
    "x = 0\n",
    "y = 0\n",
    "for file in tqdm(files):\n",
    "    if file[-4:] != 'webp':\n",
    "        continue\n",
    "    image = np.array(Image.open(image_folder+file))\n",
    "    s = image.shape\n",
    "    x+=s[0]\n",
    "    y+=s[1]\n",
    "print(x/len(files))\n",
    "print(y/len(files))"
   ]
  },
  {
   "cell_type": "code",
   "execution_count": null,
   "metadata": {},
   "outputs": [
    {
     "name": "stderr",
     "output_type": "stream",
     "text": [
      "  0%|                                                                                                                                                    | 5/6000 [00:00<02:02, 48.75it/s]"
     ]
    }
   ],
   "source": [
    "# resize\n",
    "take = 10\n",
    "files = os.listdir(image_folder)\n",
    "for file in tqdm(files):\n",
    "    image = Image.open(image_folder+file)\n",
    "    image = image.resize(taget_size, Image.BICUBIC)\n",
    "    file = file.replace('webp','jpg')\n",
    "    image.save(save_folder+file,\"jpeg\")"
   ]
  },
  {
   "cell_type": "code",
   "execution_count": 34,
   "metadata": {},
   "outputs": [
    {
     "name": "stderr",
     "output_type": "stream",
     "text": [
      "100%|████████████████████████████████████████████████████████████████████████████████████████████████████████████████████████████████████████████████████████████████| 6000/6000 [00:27<00:00, 215.41it/s]\n"
     ]
    }
   ],
   "source": [
    "# build dataset\n",
    "files = list(os.listdir(save_folder))\n",
    "count = len(files) \n",
    "i = 0 \n",
    "l = taget_size[0]*taget_size[1]*3\n",
    "with h5py.File('data.hdf5','w') as f: \n",
    "    dset = f.create_dataset('ints', (count,l), dtype='uint8')\n",
    "    i = 0\n",
    "    for file in tqdm(files):\n",
    "        image = Image.open(save_folder+file).convert('RGB')\n",
    "        image = np.array(image)\n",
    "        image = image.reshape(l).astype(int) \n",
    "        dset[i] = image\n",
    "        i+=1\n",
    "        \n",
    "    "
   ]
  },
  {
   "cell_type": "code",
   "execution_count": 35,
   "metadata": {},
   "outputs": [],
   "source": [
    "with h5py.File('data.hdf5','r') as f: \n",
    "    a = f['ints'][:10]"
   ]
  },
  {
   "cell_type": "code",
   "execution_count": 36,
   "metadata": {},
   "outputs": [
    {
     "data": {
      "text/plain": [
       "(196608,)"
      ]
     },
     "execution_count": 36,
     "metadata": {},
     "output_type": "execute_result"
    }
   ],
   "source": [
    "a[0].shape"
   ]
  },
  {
   "cell_type": "code",
   "execution_count": 32,
   "metadata": {},
   "outputs": [
    {
     "data": {
      "text/plain": [
       "12288"
      ]
     },
     "execution_count": 32,
     "metadata": {},
     "output_type": "execute_result"
    }
   ],
   "source": [
    "64*64*3"
   ]
  },
  {
   "cell_type": "code",
   "execution_count": null,
   "metadata": {},
   "outputs": [],
   "source": []
  }
 ],
 "metadata": {
  "kernelspec": {
   "display_name": "Python 3",
   "language": "python",
   "name": "python3"
  },
  "language_info": {
   "codemirror_mode": {
    "name": "ipython",
    "version": 3
   },
   "file_extension": ".py",
   "mimetype": "text/x-python",
   "name": "python",
   "nbconvert_exporter": "python",
   "pygments_lexer": "ipython3",
   "version": "3.6.6"
  }
 },
 "nbformat": 4,
 "nbformat_minor": 2
}
